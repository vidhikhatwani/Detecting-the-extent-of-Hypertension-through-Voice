{
 "cells": [
  {
   "cell_type": "code",
   "execution_count": 1,
   "id": "a8e556e0",
   "metadata": {},
   "outputs": [
    {
     "name": "stdout",
     "output_type": "stream",
     "text": [
      "Requirement already satisfied: surfboard in /Users/somaaymaheshwari/opt/anaconda3/lib/python3.8/site-packages (0.2.0)\n",
      "Requirement already satisfied: pysptk>=0.1.18 in /Users/somaaymaheshwari/opt/anaconda3/lib/python3.8/site-packages (from surfboard) (0.1.20)\n",
      "Requirement already satisfied: pandas>=1.0.1 in /Users/somaaymaheshwari/opt/anaconda3/lib/python3.8/site-packages (from surfboard) (1.2.4)\n",
      "Requirement already satisfied: tqdm>=4.42.1 in /Users/somaaymaheshwari/opt/anaconda3/lib/python3.8/site-packages (from surfboard) (4.59.0)\n",
      "Requirement already satisfied: numba==0.48.0 in /Users/somaaymaheshwari/opt/anaconda3/lib/python3.8/site-packages (from surfboard) (0.48.0)\n",
      "Requirement already satisfied: Cython>=0.29.15 in /Users/somaaymaheshwari/opt/anaconda3/lib/python3.8/site-packages (from surfboard) (0.29.23)\n",
      "Requirement already satisfied: SoundFile>=0.10.3.post1 in /Users/somaaymaheshwari/opt/anaconda3/lib/python3.8/site-packages (from surfboard) (0.10.3.post1)\n",
      "Requirement already satisfied: pytest>=5.4.1 in /Users/somaaymaheshwari/opt/anaconda3/lib/python3.8/site-packages (from surfboard) (6.2.3)\n",
      "Requirement already satisfied: librosa>=0.7.2 in /Users/somaaymaheshwari/opt/anaconda3/lib/python3.8/site-packages (from surfboard) (0.9.1)\n",
      "Requirement already satisfied: pyloudnorm==0.1.0 in /Users/somaaymaheshwari/opt/anaconda3/lib/python3.8/site-packages (from surfboard) (0.1.0)\n",
      "Requirement already satisfied: PeakUtils>=1.3.3 in /Users/somaaymaheshwari/opt/anaconda3/lib/python3.8/site-packages (from surfboard) (1.3.3)\n",
      "Requirement already satisfied: pyyaml>=5.3 in /Users/somaaymaheshwari/opt/anaconda3/lib/python3.8/site-packages (from surfboard) (5.4.1)\n",
      "Requirement already satisfied: llvmlite<0.32.0,>=0.31.0dev0 in /Users/somaaymaheshwari/opt/anaconda3/lib/python3.8/site-packages (from numba==0.48.0->surfboard) (0.31.0)\n",
      "Requirement already satisfied: setuptools in /Users/somaaymaheshwari/opt/anaconda3/lib/python3.8/site-packages (from numba==0.48.0->surfboard) (52.0.0.post20210125)\n",
      "Requirement already satisfied: numpy>=1.15 in /Users/somaaymaheshwari/opt/anaconda3/lib/python3.8/site-packages (from numba==0.48.0->surfboard) (1.20.1)\n",
      "Requirement already satisfied: scipy>=1.0.1 in /Users/somaaymaheshwari/opt/anaconda3/lib/python3.8/site-packages (from pyloudnorm==0.1.0->surfboard) (1.6.2)\n",
      "Requirement already satisfied: future>=0.16.0 in /Users/somaaymaheshwari/opt/anaconda3/lib/python3.8/site-packages (from pyloudnorm==0.1.0->surfboard) (0.18.2)\n",
      "Requirement already satisfied: audioread>=2.1.5 in /Users/somaaymaheshwari/opt/anaconda3/lib/python3.8/site-packages (from librosa>=0.7.2->surfboard) (2.1.9)\n",
      "Requirement already satisfied: decorator>=4.0.10 in /Users/somaaymaheshwari/opt/anaconda3/lib/python3.8/site-packages (from librosa>=0.7.2->surfboard) (5.0.6)\n",
      "Requirement already satisfied: joblib>=0.14 in /Users/somaaymaheshwari/opt/anaconda3/lib/python3.8/site-packages (from librosa>=0.7.2->surfboard) (1.0.1)\n",
      "Requirement already satisfied: pooch>=1.0 in /Users/somaaymaheshwari/opt/anaconda3/lib/python3.8/site-packages (from librosa>=0.7.2->surfboard) (1.6.0)\n",
      "Requirement already satisfied: packaging>=20.0 in /Users/somaaymaheshwari/opt/anaconda3/lib/python3.8/site-packages (from librosa>=0.7.2->surfboard) (20.9)\n",
      "Requirement already satisfied: resampy>=0.2.2 in /Users/somaaymaheshwari/opt/anaconda3/lib/python3.8/site-packages (from librosa>=0.7.2->surfboard) (0.2.2)\n",
      "Requirement already satisfied: scikit-learn>=0.19.1 in /Users/somaaymaheshwari/opt/anaconda3/lib/python3.8/site-packages (from librosa>=0.7.2->surfboard) (0.24.1)\n",
      "Requirement already satisfied: pyparsing>=2.0.2 in /Users/somaaymaheshwari/opt/anaconda3/lib/python3.8/site-packages (from packaging>=20.0->librosa>=0.7.2->surfboard) (2.4.7)\n",
      "Requirement already satisfied: python-dateutil>=2.7.3 in /Users/somaaymaheshwari/opt/anaconda3/lib/python3.8/site-packages (from pandas>=1.0.1->surfboard) (2.8.1)\n",
      "Requirement already satisfied: pytz>=2017.3 in /Users/somaaymaheshwari/opt/anaconda3/lib/python3.8/site-packages (from pandas>=1.0.1->surfboard) (2021.1)\n",
      "Requirement already satisfied: appdirs>=1.3.0 in /Users/somaaymaheshwari/opt/anaconda3/lib/python3.8/site-packages (from pooch>=1.0->librosa>=0.7.2->surfboard) (1.4.4)\n",
      "Requirement already satisfied: requests>=2.19.0 in /Users/somaaymaheshwari/opt/anaconda3/lib/python3.8/site-packages (from pooch>=1.0->librosa>=0.7.2->surfboard) (2.27.1)\n",
      "Requirement already satisfied: six in /Users/somaaymaheshwari/opt/anaconda3/lib/python3.8/site-packages (from pysptk>=0.1.18->surfboard) (1.15.0)\n",
      "Requirement already satisfied: attrs>=19.2.0 in /Users/somaaymaheshwari/opt/anaconda3/lib/python3.8/site-packages (from pytest>=5.4.1->surfboard) (20.3.0)\n",
      "Requirement already satisfied: iniconfig in /Users/somaaymaheshwari/opt/anaconda3/lib/python3.8/site-packages (from pytest>=5.4.1->surfboard) (1.1.1)\n",
      "Requirement already satisfied: pluggy<1.0.0a1,>=0.12 in /Users/somaaymaheshwari/opt/anaconda3/lib/python3.8/site-packages (from pytest>=5.4.1->surfboard) (0.13.1)\n",
      "Requirement already satisfied: py>=1.8.2 in /Users/somaaymaheshwari/opt/anaconda3/lib/python3.8/site-packages (from pytest>=5.4.1->surfboard) (1.10.0)\n",
      "Requirement already satisfied: toml in /Users/somaaymaheshwari/opt/anaconda3/lib/python3.8/site-packages (from pytest>=5.4.1->surfboard) (0.10.2)\n",
      "Requirement already satisfied: idna<4,>=2.5 in /Users/somaaymaheshwari/opt/anaconda3/lib/python3.8/site-packages (from requests>=2.19.0->pooch>=1.0->librosa>=0.7.2->surfboard) (2.10)\n",
      "Requirement already satisfied: urllib3<1.27,>=1.21.1 in /Users/somaaymaheshwari/opt/anaconda3/lib/python3.8/site-packages (from requests>=2.19.0->pooch>=1.0->librosa>=0.7.2->surfboard) (1.26.4)\n",
      "Requirement already satisfied: charset-normalizer~=2.0.0 in /Users/somaaymaheshwari/opt/anaconda3/lib/python3.8/site-packages (from requests>=2.19.0->pooch>=1.0->librosa>=0.7.2->surfboard) (2.0.12)\n",
      "Requirement already satisfied: certifi>=2017.4.17 in /Users/somaaymaheshwari/opt/anaconda3/lib/python3.8/site-packages (from requests>=2.19.0->pooch>=1.0->librosa>=0.7.2->surfboard) (2020.12.5)\n",
      "Requirement already satisfied: threadpoolctl>=2.0.0 in /Users/somaaymaheshwari/opt/anaconda3/lib/python3.8/site-packages (from scikit-learn>=0.19.1->librosa>=0.7.2->surfboard) (2.1.0)\n",
      "Requirement already satisfied: cffi>=1.0 in /Users/somaaymaheshwari/opt/anaconda3/lib/python3.8/site-packages (from SoundFile>=0.10.3.post1->surfboard) (1.14.5)\n",
      "Requirement already satisfied: pycparser in /Users/somaaymaheshwari/opt/anaconda3/lib/python3.8/site-packages (from cffi>=1.0->SoundFile>=0.10.3.post1->surfboard) (2.20)\n",
      "Note: you may need to restart the kernel to use updated packages.\n"
     ]
    }
   ],
   "source": [
    "pip install surfboard"
   ]
  },
  {
   "cell_type": "code",
   "execution_count": 2,
   "id": "34234d66",
   "metadata": {},
   "outputs": [],
   "source": [
    "import pandas as pd \n",
    "import seaborn as sns\n",
    "import matplotlib.pyplot as plt\n",
    "from surfboard.sound import Waveform"
   ]
  },
  {
   "cell_type": "code",
   "execution_count": 3,
   "id": "0380aca2",
   "metadata": {},
   "outputs": [],
   "source": [
    "data=pd.read_csv(\"~/Desktop/PBL-2/PBLAudio.csv\")"
   ]
  },
  {
   "cell_type": "code",
   "execution_count": 4,
   "id": "8aa5c91e",
   "metadata": {},
   "outputs": [
    {
     "data": {
      "text/html": [
       "<div>\n",
       "<style scoped>\n",
       "    .dataframe tbody tr th:only-of-type {\n",
       "        vertical-align: middle;\n",
       "    }\n",
       "\n",
       "    .dataframe tbody tr th {\n",
       "        vertical-align: top;\n",
       "    }\n",
       "\n",
       "    .dataframe thead th {\n",
       "        text-align: right;\n",
       "    }\n",
       "</style>\n",
       "<table border=\"1\" class=\"dataframe\">\n",
       "  <thead>\n",
       "    <tr style=\"text-align: right;\">\n",
       "      <th></th>\n",
       "      <th>name</th>\n",
       "      <th>emotions</th>\n",
       "      <th>type</th>\n",
       "      <th>size (KB)</th>\n",
       "      <th>target</th>\n",
       "      <th>path</th>\n",
       "    </tr>\n",
       "  </thead>\n",
       "  <tbody>\n",
       "    <tr>\n",
       "      <th>0</th>\n",
       "      <td>bojack</td>\n",
       "      <td>bojack_afraid</td>\n",
       "      <td>WAV File</td>\n",
       "      <td>2441</td>\n",
       "      <td>1</td>\n",
       "      <td>/Users/somaaymaheshwari/Downloads/dataset/boja...</td>\n",
       "    </tr>\n",
       "    <tr>\n",
       "      <th>1</th>\n",
       "      <td>bojack</td>\n",
       "      <td>bojack_angry</td>\n",
       "      <td>WAV File</td>\n",
       "      <td>1849</td>\n",
       "      <td>1</td>\n",
       "      <td>/Users/somaaymaheshwari/Downloads/dataset/boja...</td>\n",
       "    </tr>\n",
       "    <tr>\n",
       "      <th>2</th>\n",
       "      <td>bojack</td>\n",
       "      <td>bojack_calm (2)</td>\n",
       "      <td>WAV File</td>\n",
       "      <td>2992</td>\n",
       "      <td>1</td>\n",
       "      <td>/Users/somaaymaheshwari/Downloads/dataset/boja...</td>\n",
       "    </tr>\n",
       "    <tr>\n",
       "      <th>3</th>\n",
       "      <td>bojack</td>\n",
       "      <td>bojack_calm</td>\n",
       "      <td>WAV File</td>\n",
       "      <td>1099</td>\n",
       "      <td>1</td>\n",
       "      <td>/Users/somaaymaheshwari/Downloads/dataset/boja...</td>\n",
       "    </tr>\n",
       "    <tr>\n",
       "      <th>4</th>\n",
       "      <td>bojack</td>\n",
       "      <td>bojack_confused</td>\n",
       "      <td>WAV File</td>\n",
       "      <td>1563</td>\n",
       "      <td>1</td>\n",
       "      <td>/Users/somaaymaheshwari/Downloads/dataset/boja...</td>\n",
       "    </tr>\n",
       "  </tbody>\n",
       "</table>\n",
       "</div>"
      ],
      "text/plain": [
       "     name         emotions      type  size (KB)  target  \\\n",
       "0  bojack    bojack_afraid  WAV File       2441       1   \n",
       "1  bojack     bojack_angry  WAV File       1849       1   \n",
       "2  bojack  bojack_calm (2)  WAV File       2992       1   \n",
       "3  bojack      bojack_calm  WAV File       1099       1   \n",
       "4  bojack  bojack_confused  WAV File       1563       1   \n",
       "\n",
       "                                                path  \n",
       "0  /Users/somaaymaheshwari/Downloads/dataset/boja...  \n",
       "1  /Users/somaaymaheshwari/Downloads/dataset/boja...  \n",
       "2  /Users/somaaymaheshwari/Downloads/dataset/boja...  \n",
       "3  /Users/somaaymaheshwari/Downloads/dataset/boja...  \n",
       "4  /Users/somaaymaheshwari/Downloads/dataset/boja...  "
      ]
     },
     "execution_count": 4,
     "metadata": {},
     "output_type": "execute_result"
    }
   ],
   "source": [
    "data.head()"
   ]
  },
  {
   "cell_type": "code",
   "execution_count": 5,
   "id": "2d79c9b1",
   "metadata": {},
   "outputs": [
    {
     "data": {
      "text/plain": [
       "0     /Users/somaaymaheshwari/Downloads/dataset/boja...\n",
       "1     /Users/somaaymaheshwari/Downloads/dataset/boja...\n",
       "2     /Users/somaaymaheshwari/Downloads/dataset/boja...\n",
       "3     /Users/somaaymaheshwari/Downloads/dataset/boja...\n",
       "4     /Users/somaaymaheshwari/Downloads/dataset/boja...\n",
       "5     /Users/somaaymaheshwari/Downloads/dataset/boja...\n",
       "6     /Users/somaaymaheshwari/Downloads/dataset/boja...\n",
       "7     /Users/somaaymaheshwari/Downloads/dataset/boja...\n",
       "8     /Users/somaaymaheshwari/Downloads/dataset/boja...\n",
       "9     /Users/somaaymaheshwari/Downloads/dataset/boja...\n",
       "10    /Users/somaaymaheshwari/Downloads/dataset/rick...\n",
       "11    /Users/somaaymaheshwari/Downloads/dataset/rick...\n",
       "12    /Users/somaaymaheshwari/Downloads/dataset/rick...\n",
       "13    /Users/somaaymaheshwari/Downloads/dataset/rick...\n",
       "14    /Users/somaaymaheshwari/Downloads/dataset/rick...\n",
       "15    /Users/somaaymaheshwari/Downloads/dataset/rick...\n",
       "16    /Users/somaaymaheshwari/Downloads/dataset/rick...\n",
       "17    /Users/somaaymaheshwari/Downloads/dataset/rick...\n",
       "18    /Users/somaaymaheshwari/Downloads/dataset/rick...\n",
       "19    /Users/somaaymaheshwari/Downloads/dataset/rick...\n",
       "20    /Users/somaaymaheshwari/Downloads/dataset/otis...\n",
       "21    /Users/somaaymaheshwari/Downloads/dataset/otis...\n",
       "22    /Users/somaaymaheshwari/Downloads/dataset/otis...\n",
       "23    /Users/somaaymaheshwari/Downloads/dataset/otis...\n",
       "24    /Users/somaaymaheshwari/Downloads/dataset/otis...\n",
       "25    /Users/somaaymaheshwari/Downloads/dataset/otis...\n",
       "26    /Users/somaaymaheshwari/Downloads/dataset/otis...\n",
       "27    /Users/somaaymaheshwari/Downloads/dataset/otis...\n",
       "28    /Users/somaaymaheshwari/Downloads/dataset/otis...\n",
       "29    /Users/somaaymaheshwari/Downloads/dataset/otis...\n",
       "30    /Users/somaaymaheshwari/Downloads/dataset/howa...\n",
       "31    /Users/somaaymaheshwari/Downloads/dataset/howa...\n",
       "32    /Users/somaaymaheshwari/Downloads/dataset/howa...\n",
       "33    /Users/somaaymaheshwari/Downloads/dataset/howa...\n",
       "34    /Users/somaaymaheshwari/Downloads/dataset/howa...\n",
       "35    /Users/somaaymaheshwari/Downloads/dataset/howa...\n",
       "36    /Users/somaaymaheshwari/Downloads/dataset/howa...\n",
       "37    /Users/somaaymaheshwari/Downloads/dataset/howa...\n",
       "38    /Users/somaaymaheshwari/Downloads/dataset/howa...\n",
       "39    /Users/somaaymaheshwari/Downloads/dataset/howa...\n",
       "40    /Users/somaaymaheshwari/Downloads/dataset/varu...\n",
       "41    /Users/somaaymaheshwari/Downloads/dataset/varu...\n",
       "42    /Users/somaaymaheshwari/Downloads/dataset/varu...\n",
       "43    /Users/somaaymaheshwari/Downloads/dataset/varu...\n",
       "44    /Users/somaaymaheshwari/Downloads/dataset/varu...\n",
       "45    /Users/somaaymaheshwari/Downloads/dataset/varu...\n",
       "46    /Users/somaaymaheshwari/Downloads/dataset/varu...\n",
       "47    /Users/somaaymaheshwari/Downloads/dataset/varu...\n",
       "48    /Users/somaaymaheshwari/Downloads/dataset/varu...\n",
       "49    /Users/somaaymaheshwari/Downloads/dataset/varu...\n",
       "Name: path, dtype: object"
      ]
     },
     "execution_count": 5,
     "metadata": {},
     "output_type": "execute_result"
    }
   ],
   "source": [
    "paths=data.path\n",
    "paths\n"
   ]
  },
  {
   "cell_type": "code",
   "execution_count": 6,
   "id": "e3587ad2",
   "metadata": {},
   "outputs": [
    {
     "name": "stderr",
     "output_type": "stream",
     "text": [
      "/Users/somaaymaheshwari/opt/anaconda3/lib/python3.8/site-packages/surfboard/hnr.py:81: RuntimeWarning: divide by zero encountered in true_divide\n",
      "  r_x = ffts_outputs[0] / ffts_outputs[1]\n",
      "/Users/somaaymaheshwari/opt/anaconda3/lib/python3.8/site-packages/surfboard/hnr.py:81: RuntimeWarning: invalid value encountered in true_divide\n",
      "  r_x = ffts_outputs[0] / ffts_outputs[1]\n"
     ]
    }
   ],
   "source": [
    "j=[]\n",
    "s=[]\n",
    "hnr=[]\n",
    "for path in paths:\n",
    "    sound=Waveform(path,sample_rate=44100)\n",
    "    j.append(sound.jitters()['localJitter'])\n",
    "    s.append(sound.shimmers()['localShimmer'])\n",
    "    hnr.append(sound.hnr())"
   ]
  },
  {
   "cell_type": "code",
   "execution_count": 7,
   "id": "03c848cf",
   "metadata": {},
   "outputs": [],
   "source": [
    "data['Jitter']=j\n",
    "data['Shimmer']=s\n",
    "data['Harmonics-Noise Ratio']=hnr"
   ]
  },
  {
   "cell_type": "code",
   "execution_count": 8,
   "id": "88e0557f",
   "metadata": {
    "scrolled": true
   },
   "outputs": [
    {
     "data": {
      "text/html": [
       "<div>\n",
       "<style scoped>\n",
       "    .dataframe tbody tr th:only-of-type {\n",
       "        vertical-align: middle;\n",
       "    }\n",
       "\n",
       "    .dataframe tbody tr th {\n",
       "        vertical-align: top;\n",
       "    }\n",
       "\n",
       "    .dataframe thead th {\n",
       "        text-align: right;\n",
       "    }\n",
       "</style>\n",
       "<table border=\"1\" class=\"dataframe\">\n",
       "  <thead>\n",
       "    <tr style=\"text-align: right;\">\n",
       "      <th></th>\n",
       "      <th>name</th>\n",
       "      <th>emotions</th>\n",
       "      <th>type</th>\n",
       "      <th>size (KB)</th>\n",
       "      <th>target</th>\n",
       "      <th>path</th>\n",
       "      <th>Jitter</th>\n",
       "      <th>Shimmer</th>\n",
       "      <th>Harmonics-Noise Ratio</th>\n",
       "    </tr>\n",
       "  </thead>\n",
       "  <tbody>\n",
       "    <tr>\n",
       "      <th>0</th>\n",
       "      <td>bojack</td>\n",
       "      <td>bojack_afraid</td>\n",
       "      <td>WAV File</td>\n",
       "      <td>2441</td>\n",
       "      <td>1</td>\n",
       "      <td>/Users/somaaymaheshwari/Downloads/dataset/boja...</td>\n",
       "      <td>0.021646</td>\n",
       "      <td>0.118881</td>\n",
       "      <td>6.149633</td>\n",
       "    </tr>\n",
       "    <tr>\n",
       "      <th>1</th>\n",
       "      <td>bojack</td>\n",
       "      <td>bojack_angry</td>\n",
       "      <td>WAV File</td>\n",
       "      <td>1849</td>\n",
       "      <td>1</td>\n",
       "      <td>/Users/somaaymaheshwari/Downloads/dataset/boja...</td>\n",
       "      <td>0.026623</td>\n",
       "      <td>0.081227</td>\n",
       "      <td>6.648721</td>\n",
       "    </tr>\n",
       "    <tr>\n",
       "      <th>2</th>\n",
       "      <td>bojack</td>\n",
       "      <td>bojack_calm (2)</td>\n",
       "      <td>WAV File</td>\n",
       "      <td>2992</td>\n",
       "      <td>1</td>\n",
       "      <td>/Users/somaaymaheshwari/Downloads/dataset/boja...</td>\n",
       "      <td>0.007718</td>\n",
       "      <td>0.075143</td>\n",
       "      <td>6.357798</td>\n",
       "    </tr>\n",
       "    <tr>\n",
       "      <th>3</th>\n",
       "      <td>bojack</td>\n",
       "      <td>bojack_calm</td>\n",
       "      <td>WAV File</td>\n",
       "      <td>1099</td>\n",
       "      <td>1</td>\n",
       "      <td>/Users/somaaymaheshwari/Downloads/dataset/boja...</td>\n",
       "      <td>0.025226</td>\n",
       "      <td>0.068337</td>\n",
       "      <td>8.803255</td>\n",
       "    </tr>\n",
       "    <tr>\n",
       "      <th>4</th>\n",
       "      <td>bojack</td>\n",
       "      <td>bojack_confused</td>\n",
       "      <td>WAV File</td>\n",
       "      <td>1563</td>\n",
       "      <td>1</td>\n",
       "      <td>/Users/somaaymaheshwari/Downloads/dataset/boja...</td>\n",
       "      <td>0.019048</td>\n",
       "      <td>0.109710</td>\n",
       "      <td>4.468049</td>\n",
       "    </tr>\n",
       "  </tbody>\n",
       "</table>\n",
       "</div>"
      ],
      "text/plain": [
       "     name         emotions      type  size (KB)  target  \\\n",
       "0  bojack    bojack_afraid  WAV File       2441       1   \n",
       "1  bojack     bojack_angry  WAV File       1849       1   \n",
       "2  bojack  bojack_calm (2)  WAV File       2992       1   \n",
       "3  bojack      bojack_calm  WAV File       1099       1   \n",
       "4  bojack  bojack_confused  WAV File       1563       1   \n",
       "\n",
       "                                                path    Jitter   Shimmer  \\\n",
       "0  /Users/somaaymaheshwari/Downloads/dataset/boja...  0.021646  0.118881   \n",
       "1  /Users/somaaymaheshwari/Downloads/dataset/boja...  0.026623  0.081227   \n",
       "2  /Users/somaaymaheshwari/Downloads/dataset/boja...  0.007718  0.075143   \n",
       "3  /Users/somaaymaheshwari/Downloads/dataset/boja...  0.025226  0.068337   \n",
       "4  /Users/somaaymaheshwari/Downloads/dataset/boja...  0.019048  0.109710   \n",
       "\n",
       "   Harmonics-Noise Ratio  \n",
       "0               6.149633  \n",
       "1               6.648721  \n",
       "2               6.357798  \n",
       "3               8.803255  \n",
       "4               4.468049  "
      ]
     },
     "execution_count": 8,
     "metadata": {},
     "output_type": "execute_result"
    }
   ],
   "source": [
    "data.head()"
   ]
  },
  {
   "cell_type": "code",
   "execution_count": 9,
   "id": "0b0a5f08",
   "metadata": {},
   "outputs": [
    {
     "data": {
      "text/html": [
       "<div>\n",
       "<style scoped>\n",
       "    .dataframe tbody tr th:only-of-type {\n",
       "        vertical-align: middle;\n",
       "    }\n",
       "\n",
       "    .dataframe tbody tr th {\n",
       "        vertical-align: top;\n",
       "    }\n",
       "\n",
       "    .dataframe thead th {\n",
       "        text-align: right;\n",
       "    }\n",
       "</style>\n",
       "<table border=\"1\" class=\"dataframe\">\n",
       "  <thead>\n",
       "    <tr style=\"text-align: right;\">\n",
       "      <th></th>\n",
       "      <th>Jitter</th>\n",
       "      <th>Shimmer</th>\n",
       "      <th>Harmonics-Noise Ratio</th>\n",
       "    </tr>\n",
       "  </thead>\n",
       "  <tbody>\n",
       "    <tr>\n",
       "      <th>0</th>\n",
       "      <td>0.021646</td>\n",
       "      <td>0.118881</td>\n",
       "      <td>6.149633</td>\n",
       "    </tr>\n",
       "    <tr>\n",
       "      <th>1</th>\n",
       "      <td>0.026623</td>\n",
       "      <td>0.081227</td>\n",
       "      <td>6.648721</td>\n",
       "    </tr>\n",
       "    <tr>\n",
       "      <th>2</th>\n",
       "      <td>0.007718</td>\n",
       "      <td>0.075143</td>\n",
       "      <td>6.357798</td>\n",
       "    </tr>\n",
       "    <tr>\n",
       "      <th>3</th>\n",
       "      <td>0.025226</td>\n",
       "      <td>0.068337</td>\n",
       "      <td>8.803255</td>\n",
       "    </tr>\n",
       "    <tr>\n",
       "      <th>4</th>\n",
       "      <td>0.019048</td>\n",
       "      <td>0.109710</td>\n",
       "      <td>4.468049</td>\n",
       "    </tr>\n",
       "  </tbody>\n",
       "</table>\n",
       "</div>"
      ],
      "text/plain": [
       "     Jitter   Shimmer  Harmonics-Noise Ratio\n",
       "0  0.021646  0.118881               6.149633\n",
       "1  0.026623  0.081227               6.648721\n",
       "2  0.007718  0.075143               6.357798\n",
       "3  0.025226  0.068337               8.803255\n",
       "4  0.019048  0.109710               4.468049"
      ]
     },
     "execution_count": 9,
     "metadata": {},
     "output_type": "execute_result"
    }
   ],
   "source": [
    "X=data.drop(['name','emotions','type','size (KB)','target','path'],axis='columns')\n",
    "X.head()"
   ]
  },
  {
   "cell_type": "code",
   "execution_count": 10,
   "id": "2e81398b",
   "metadata": {
    "scrolled": true
   },
   "outputs": [
    {
     "data": {
      "text/plain": [
       "0    1\n",
       "1    1\n",
       "2    1\n",
       "3    1\n",
       "4    1\n",
       "Name: target, dtype: int64"
      ]
     },
     "execution_count": 10,
     "metadata": {},
     "output_type": "execute_result"
    }
   ],
   "source": [
    "Y=data.target\n",
    "Y.head()"
   ]
  },
  {
   "cell_type": "code",
   "execution_count": 11,
   "id": "a770b8b3",
   "metadata": {},
   "outputs": [],
   "source": [
    "from sklearn.utils import shuffle\n",
    "X,Y = shuffle(X,Y, random_state=20)"
   ]
  },
  {
   "cell_type": "code",
   "execution_count": 12,
   "id": "beb28249",
   "metadata": {},
   "outputs": [],
   "source": [
    "from sklearn.model_selection import train_test_split"
   ]
  },
  {
   "cell_type": "code",
   "execution_count": 25,
   "id": "51ebd9be",
   "metadata": {},
   "outputs": [],
   "source": [
    "X_train, X_test, Y_train, Y_test= train_test_split(X,Y,test_size=0.2)"
   ]
  },
  {
   "cell_type": "code",
   "execution_count": 26,
   "id": "e836e954",
   "metadata": {},
   "outputs": [],
   "source": [
    "from sklearn.svm import SVC\n",
    "\n",
    "model= SVC(kernel='linear')"
   ]
  },
  {
   "cell_type": "code",
   "execution_count": 27,
   "id": "d227c4a9",
   "metadata": {},
   "outputs": [
    {
     "data": {
      "text/plain": [
       "SVC(kernel='linear')"
      ]
     },
     "execution_count": 27,
     "metadata": {},
     "output_type": "execute_result"
    }
   ],
   "source": [
    "model.fit(X_train,Y_train)"
   ]
  },
  {
   "cell_type": "code",
   "execution_count": 28,
   "id": "db29541a",
   "metadata": {},
   "outputs": [
    {
     "data": {
      "text/plain": [
       "0.7"
      ]
     },
     "execution_count": 28,
     "metadata": {},
     "output_type": "execute_result"
    }
   ],
   "source": [
    "model.score(X_test,Y_test)"
   ]
  },
  {
   "cell_type": "code",
   "execution_count": 29,
   "id": "f70502ad",
   "metadata": {},
   "outputs": [],
   "source": [
    "from sklearn.linear_model import LogisticRegression\n",
    "model1 = LogisticRegression(random_state=0).fit(X_train,Y_train)"
   ]
  },
  {
   "cell_type": "code",
   "execution_count": 30,
   "id": "9cb1d54b",
   "metadata": {},
   "outputs": [
    {
     "data": {
      "text/plain": [
       "0.7"
      ]
     },
     "execution_count": 30,
     "metadata": {},
     "output_type": "execute_result"
    }
   ],
   "source": [
    "model1.score(X_test,Y_test)"
   ]
  },
  {
   "cell_type": "code",
   "execution_count": 33,
   "id": "d8de3361",
   "metadata": {},
   "outputs": [],
   "source": [
    "path2=\"/Users/somaaymaheshwari/Desktop/PBL-2/bojack.wav\"\n",
    "sound2= Waveform(path2,sample_rate=44100)\n",
    "name= \"bojack\"\n",
    "j= sound2.jitters()[\"localJitter\"]\n",
    "s= sound2.shimmers()[\"localShimmer\"]\n",
    "hnr= sound2.hnr()\n",
    "d=[[name,j,s,hnr]]\n",
    "N=pd.DataFrame(d,columns= [\"Name\",\"Jitter\",\"Shimmer\",\"HNR\"])\n",
    "Nin= N.drop(['Name'],axis=\"columns\")\n"
   ]
  },
  {
   "cell_type": "code",
   "execution_count": 34,
   "id": "fd52541a",
   "metadata": {},
   "outputs": [
    {
     "data": {
      "text/plain": [
       "array([1])"
      ]
     },
     "execution_count": 34,
     "metadata": {},
     "output_type": "execute_result"
    }
   ],
   "source": [
    "model.predict(Nin)"
   ]
  },
  {
   "cell_type": "code",
   "execution_count": 35,
   "id": "59851f2e",
   "metadata": {},
   "outputs": [
    {
     "data": {
      "text/plain": [
       "array([1])"
      ]
     },
     "execution_count": 35,
     "metadata": {},
     "output_type": "execute_result"
    }
   ],
   "source": [
    "model1.predict(Nin)"
   ]
  },
  {
   "cell_type": "code",
   "execution_count": 36,
   "id": "afd83bce",
   "metadata": {},
   "outputs": [],
   "source": [
    "jc=[]\n",
    "sc=[]\n",
    "hnrc=[]"
   ]
  },
  {
   "cell_type": "code",
   "execution_count": 37,
   "id": "91b294fc",
   "metadata": {},
   "outputs": [],
   "source": [
    "for ind in data.index:\n",
    "    if(data[\"name\"][ind]==name):\n",
    "        jc.append(data[\"Jitter\"][ind])\n",
    "        sc.append(data[\"Shimmer\"][ind])\n",
    "        hnrc.append(data[\"Harmonics-Noise Ratio\"][ind])"
   ]
  },
  {
   "cell_type": "code",
   "execution_count": 38,
   "id": "4e6d9a09",
   "metadata": {},
   "outputs": [
    {
     "data": {
      "text/plain": [
       "[0.02164605788526312,\n",
       " 0.026623089873592395,\n",
       " 0.00771813850191868,\n",
       " 0.02522625655897197,\n",
       " 0.01904804363832035,\n",
       " 0.01896874954514465,\n",
       " 0.015292816254804342,\n",
       " 0.014527366495085133,\n",
       " 0.014350974028008648,\n",
       " 0.010232100023762803]"
      ]
     },
     "execution_count": 38,
     "metadata": {},
     "output_type": "execute_result"
    }
   ],
   "source": [
    "jc"
   ]
  },
  {
   "cell_type": "code",
   "execution_count": 39,
   "id": "fd7b3f96",
   "metadata": {},
   "outputs": [],
   "source": [
    "import numpy as np\n",
    "a=np.array(jc)\n",
    "b=np.array(sc)\n",
    "c=np.array(hnrc)\n",
    "stdj= np.std(a)\n",
    "stds= np.std(b)\n",
    "stdhnr= np.std(c)\n",
    "meana=np.mean(a)\n",
    "meanb=np.mean(b)\n",
    "meanc=np.mean(c)"
   ]
  },
  {
   "cell_type": "code",
   "execution_count": 40,
   "id": "004881c0",
   "metadata": {},
   "outputs": [
    {
     "data": {
      "text/plain": [
       "0.005801847307185703"
      ]
     },
     "execution_count": 40,
     "metadata": {},
     "output_type": "execute_result"
    }
   ],
   "source": [
    "stdj"
   ]
  },
  {
   "cell_type": "code",
   "execution_count": 41,
   "id": "8ea2898d",
   "metadata": {},
   "outputs": [
    {
     "data": {
      "text/plain": [
       "0.018826330921132093"
      ]
     },
     "execution_count": 41,
     "metadata": {},
     "output_type": "execute_result"
    }
   ],
   "source": [
    "stds"
   ]
  },
  {
   "cell_type": "code",
   "execution_count": 42,
   "id": "8ad41697",
   "metadata": {},
   "outputs": [
    {
     "data": {
      "text/plain": [
       "1.2898570567473469"
      ]
     },
     "execution_count": 42,
     "metadata": {},
     "output_type": "execute_result"
    }
   ],
   "source": [
    "stdhnr"
   ]
  },
  {
   "cell_type": "code",
   "execution_count": 43,
   "id": "d990f15f",
   "metadata": {},
   "outputs": [],
   "source": [
    "pa=(stdj/meana)*100\n",
    "pb=(stds/meanb)*100\n",
    "pc=(stdhnr/meanc)*100"
   ]
  },
  {
   "cell_type": "code",
   "execution_count": 44,
   "id": "488feacd",
   "metadata": {},
   "outputs": [
    {
     "data": {
      "text/plain": [
       "25.28154932926275"
      ]
     },
     "execution_count": 44,
     "metadata": {},
     "output_type": "execute_result"
    }
   ],
   "source": [
    "pt=(pa+pb+pc)/3\n",
    "pt"
   ]
  },
  {
   "cell_type": "code",
   "execution_count": 45,
   "id": "cbff47ca",
   "metadata": {},
   "outputs": [
    {
     "name": "stdout",
     "output_type": "stream",
     "text": [
      "The extent of hypertension: 2.0\n"
     ]
    }
   ],
   "source": [
    "print(\"The extent of hypertension: \" + str(pt//10))"
   ]
  },
  {
   "cell_type": "code",
   "execution_count": null,
   "id": "69b8b47f",
   "metadata": {},
   "outputs": [],
   "source": []
  }
 ],
 "metadata": {
  "kernelspec": {
   "display_name": "Python 3",
   "language": "python",
   "name": "python3"
  },
  "language_info": {
   "codemirror_mode": {
    "name": "ipython",
    "version": 3
   },
   "file_extension": ".py",
   "mimetype": "text/x-python",
   "name": "python",
   "nbconvert_exporter": "python",
   "pygments_lexer": "ipython3",
   "version": "3.8.8"
  }
 },
 "nbformat": 4,
 "nbformat_minor": 5
}
